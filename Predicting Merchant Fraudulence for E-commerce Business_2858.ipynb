{
 "cells": [
  {
   "cell_type": "markdown",
   "metadata": {},
   "source": [
    "# Predicting Merchant Fraudulence for E-commerce Business"
   ]
  },
  {
   "cell_type": "markdown",
   "metadata": {},
   "source": [
    "### Problem statment : \n",
    "\n",
    "Predict if the Merchant is Fraudster or not for an e-commerce client\n",
    "‘XYZ’ is a large e-commerce company with its operations in several countries. As the online giant grows, so has the number of fraudster merchants are. They deliver counterfeits or, in some cases, nothing at all. Such schemes leave customers duped, and place both legitimate merchants and the company itself in a constant battle to rid the marketplace of scammers. Determining this is also important in budgeting for fraud investigation. It's a well-known problem both to the company and to merchants, which they say hasn't effectively addressed the issue. They are serious about it and want to protect themselves from these fraudulent merchants using technology.\n",
    "\n",
    "You are expected to create an analytical and modelling framework to predict the Merchant Fraudulency(yes/no) based on the quantitative and qualitative features provided in the dataset "
   ]
  },
  {
   "cell_type": "markdown",
   "metadata": {},
   "source": [
    "### Problem Understanding\n",
    "\n",
    "1. Fraudulent Merchants \n",
    "2. Merchant sell counterfeit product or don’t dispatch items\n",
    "3. Company brand value impacted.\n",
    "4. Company make loss on refund to customers\n",
    "\n",
    "\n",
    "### Expectation \n",
    "\n",
    "1. Budget required for fraud detection\n",
    "2. To protect client from fraudulent merchants using client’s technology\n",
    "3. Build analytical framework to predict Merchant fraudulency\n",
    "4. Give possible insights from the data about fraudulent merchant"
   ]
  },
  {
   "cell_type": "markdown",
   "metadata": {},
   "source": [
    "# Loading required Libriaries"
   ]
  },
  {
   "cell_type": "code",
   "execution_count": 1,
   "metadata": {},
   "outputs": [],
   "source": [
    "\n",
    "#Interface with Operating system to run Python\n",
    "import os\n",
    "\n",
    "#Import numerical and pandas libraries\n",
    "import numpy as np\n",
    "import pandas as pd\n",
    "\n",
    "\n",
    "#Preprocessing libraries\n",
    "\n",
    "from sklearn import preprocessing\n",
    "\n",
    "#For imputing \n",
    "from sklearn.preprocessing import Imputer\n",
    "from sklearn.impute import SimpleImputer\n",
    "\n",
    "#To dummify\n",
    "from sklearn.preprocessing import OneHotEncoder\n",
    "\n",
    "#To standardize\n",
    "from sklearn.preprocessing import StandardScaler\n",
    "\n",
    "#To normalize\n",
    "from sklearn.preprocessing import MinMaxScaler\n",
    "\n",
    "#To do Train_test split\n",
    "from sklearn.model_selection import train_test_split\n",
    "\n",
    "#To do GridSearchCV\n",
    "\n",
    "from sklearn.pipeline import Pipeline\n",
    "from sklearn.model_selection import GridSearchCV, cross_val_score, StratifiedKFold\n",
    "from sklearn.compose import ColumnTransformer\n",
    "\n",
    "\n",
    "#To check performance metrics\n",
    "from sklearn.metrics import accuracy_score\n",
    "\n",
    "#To create confusion_matrix\n",
    "from sklearn.metrics import confusion_matrix\n",
    "from sklearn.metrics import confusion_matrix, roc_curve, auc\n",
    "\n",
    "#For plotting - Matplot\n",
    "import matplotlib.pyplot as plt\n",
    "%matplotlib notebook\n",
    "\n",
    "#For plotting - Seaborn\n",
    "import seaborn as sns"
   ]
  },
  {
   "cell_type": "markdown",
   "metadata": {},
   "source": [
    "## Read the Data set"
   ]
  },
  {
   "cell_type": "code",
   "execution_count": 2,
   "metadata": {},
   "outputs": [],
   "source": [
    "#Reading training data set - Merchant details\n",
    "train_Seller_data = pd.read_csv(\"train_merchant_data-1561627820784.csv\")"
   ]
  },
  {
   "cell_type": "code",
   "execution_count": 5,
   "metadata": {},
   "outputs": [
    {
     "data": {
      "text/plain": [
       "(54213, 7)"
      ]
     },
     "execution_count": 5,
     "metadata": {},
     "output_type": "execute_result"
    }
   ],
   "source": [
    "train_Seller_data.shape"
   ]
  },
  {
   "cell_type": "code",
   "execution_count": 10,
   "metadata": {},
   "outputs": [
    {
     "data": {
      "text/html": [
       "<div>\n",
       "<style scoped>\n",
       "    .dataframe tbody tr th:only-of-type {\n",
       "        vertical-align: middle;\n",
       "    }\n",
       "\n",
       "    .dataframe tbody tr th {\n",
       "        vertical-align: top;\n",
       "    }\n",
       "\n",
       "    .dataframe thead th {\n",
       "        text-align: right;\n",
       "    }\n",
       "</style>\n",
       "<table border=\"1\" class=\"dataframe\">\n",
       "  <thead>\n",
       "    <tr style=\"text-align: right;\">\n",
       "      <th></th>\n",
       "      <th>Ecommerce_Provider_ID</th>\n",
       "      <th>Merchant_ID</th>\n",
       "      <th>Merchant_Registration_Date</th>\n",
       "      <th>Registered_Device_ID</th>\n",
       "      <th>Gender</th>\n",
       "      <th>Age</th>\n",
       "      <th>IP_Address</th>\n",
       "    </tr>\n",
       "  </thead>\n",
       "  <tbody>\n",
       "    <tr>\n",
       "      <th>count</th>\n",
       "      <td>54213.0</td>\n",
       "      <td>54213.000000</td>\n",
       "      <td>54213</td>\n",
       "      <td>54213</td>\n",
       "      <td>54213</td>\n",
       "      <td>54213.000000</td>\n",
       "      <td>54213</td>\n",
       "    </tr>\n",
       "    <tr>\n",
       "      <th>unique</th>\n",
       "      <td>NaN</td>\n",
       "      <td>NaN</td>\n",
       "      <td>54213</td>\n",
       "      <td>51291</td>\n",
       "      <td>2</td>\n",
       "      <td>NaN</td>\n",
       "      <td>52028</td>\n",
       "    </tr>\n",
       "    <tr>\n",
       "      <th>top</th>\n",
       "      <td>NaN</td>\n",
       "      <td>NaN</td>\n",
       "      <td>2018-05-23 20:35:24</td>\n",
       "      <td>VIPZYJGMVMXOF</td>\n",
       "      <td>M</td>\n",
       "      <td>NaN</td>\n",
       "      <td>91.161.239.48</td>\n",
       "    </tr>\n",
       "    <tr>\n",
       "      <th>freq</th>\n",
       "      <td>NaN</td>\n",
       "      <td>NaN</td>\n",
       "      <td>1</td>\n",
       "      <td>9</td>\n",
       "      <td>31761</td>\n",
       "      <td>NaN</td>\n",
       "      <td>9</td>\n",
       "    </tr>\n",
       "    <tr>\n",
       "      <th>mean</th>\n",
       "      <td>1746213.0</td>\n",
       "      <td>200395.176212</td>\n",
       "      <td>NaN</td>\n",
       "      <td>NaN</td>\n",
       "      <td>NaN</td>\n",
       "      <td>33.122240</td>\n",
       "      <td>NaN</td>\n",
       "    </tr>\n",
       "    <tr>\n",
       "      <th>std</th>\n",
       "      <td>0.0</td>\n",
       "      <td>115398.486895</td>\n",
       "      <td>NaN</td>\n",
       "      <td>NaN</td>\n",
       "      <td>NaN</td>\n",
       "      <td>8.630091</td>\n",
       "      <td>NaN</td>\n",
       "    </tr>\n",
       "    <tr>\n",
       "      <th>min</th>\n",
       "      <td>1746213.0</td>\n",
       "      <td>2.000000</td>\n",
       "      <td>NaN</td>\n",
       "      <td>NaN</td>\n",
       "      <td>NaN</td>\n",
       "      <td>18.000000</td>\n",
       "      <td>NaN</td>\n",
       "    </tr>\n",
       "    <tr>\n",
       "      <th>25%</th>\n",
       "      <td>1746213.0</td>\n",
       "      <td>100997.000000</td>\n",
       "      <td>NaN</td>\n",
       "      <td>NaN</td>\n",
       "      <td>NaN</td>\n",
       "      <td>27.000000</td>\n",
       "      <td>NaN</td>\n",
       "    </tr>\n",
       "    <tr>\n",
       "      <th>50%</th>\n",
       "      <td>1746213.0</td>\n",
       "      <td>200574.000000</td>\n",
       "      <td>NaN</td>\n",
       "      <td>NaN</td>\n",
       "      <td>NaN</td>\n",
       "      <td>32.000000</td>\n",
       "      <td>NaN</td>\n",
       "    </tr>\n",
       "    <tr>\n",
       "      <th>75%</th>\n",
       "      <td>1746213.0</td>\n",
       "      <td>300407.000000</td>\n",
       "      <td>NaN</td>\n",
       "      <td>NaN</td>\n",
       "      <td>NaN</td>\n",
       "      <td>39.000000</td>\n",
       "      <td>NaN</td>\n",
       "    </tr>\n",
       "    <tr>\n",
       "      <th>max</th>\n",
       "      <td>1746213.0</td>\n",
       "      <td>399993.000000</td>\n",
       "      <td>NaN</td>\n",
       "      <td>NaN</td>\n",
       "      <td>NaN</td>\n",
       "      <td>72.000000</td>\n",
       "      <td>NaN</td>\n",
       "    </tr>\n",
       "  </tbody>\n",
       "</table>\n",
       "</div>"
      ],
      "text/plain": [
       "        Ecommerce_Provider_ID    Merchant_ID Merchant_Registration_Date  \\\n",
       "count                 54213.0   54213.000000                      54213   \n",
       "unique                    NaN            NaN                      54213   \n",
       "top                       NaN            NaN        2018-05-23 20:35:24   \n",
       "freq                      NaN            NaN                          1   \n",
       "mean                1746213.0  200395.176212                        NaN   \n",
       "std                       0.0  115398.486895                        NaN   \n",
       "min                 1746213.0       2.000000                        NaN   \n",
       "25%                 1746213.0  100997.000000                        NaN   \n",
       "50%                 1746213.0  200574.000000                        NaN   \n",
       "75%                 1746213.0  300407.000000                        NaN   \n",
       "max                 1746213.0  399993.000000                        NaN   \n",
       "\n",
       "       Registered_Device_ID Gender           Age     IP_Address  \n",
       "count                 54213  54213  54213.000000          54213  \n",
       "unique                51291      2           NaN          52028  \n",
       "top           VIPZYJGMVMXOF      M           NaN  91.161.239.48  \n",
       "freq                      9  31761           NaN              9  \n",
       "mean                    NaN    NaN     33.122240            NaN  \n",
       "std                     NaN    NaN      8.630091            NaN  \n",
       "min                     NaN    NaN     18.000000            NaN  \n",
       "25%                     NaN    NaN     27.000000            NaN  \n",
       "50%                     NaN    NaN     32.000000            NaN  \n",
       "75%                     NaN    NaN     39.000000            NaN  \n",
       "max                     NaN    NaN     72.000000            NaN  "
      ]
     },
     "execution_count": 10,
     "metadata": {},
     "output_type": "execute_result"
    }
   ],
   "source": [
    "train_Seller_data.describe(include='all')"
   ]
  },
  {
   "cell_type": "code",
   "execution_count": 11,
   "metadata": {},
   "outputs": [],
   "source": [
    "#Reading Unseen dataset - Merchant details\n",
    "unseen_seller_data = pd.read_csv(\"test_merchant_data-1561627903902.csv\")"
   ]
  },
  {
   "cell_type": "code",
   "execution_count": 12,
   "metadata": {},
   "outputs": [],
   "source": [
    "#Reading training data set - Order details\n",
    "train_Order_data = pd.read_csv(\"train_order_data-1561627847149.csv\")"
   ]
  },
  {
   "cell_type": "code",
   "execution_count": 13,
   "metadata": {},
   "outputs": [],
   "source": [
    "#Reading Unseen data set - Order details\n",
    "unseen_Order_data = pd.read_csv(\"test_order_data-1561627931868.csv\")"
   ]
  },
  {
   "cell_type": "code",
   "execution_count": 14,
   "metadata": {},
   "outputs": [],
   "source": [
    "#Reading train data set target variable \n",
    "fraud_train = pd.read_csv(\"train-1561627878332.csv\")"
   ]
  },
  {
   "cell_type": "code",
   "execution_count": 15,
   "metadata": {},
   "outputs": [],
   "source": [
    "test_tar_data = pd.read_csv(\"test-1561627952093.csv\")"
   ]
  },
  {
   "cell_type": "code",
   "execution_count": 16,
   "metadata": {},
   "outputs": [],
   "source": [
    "#Combining train dataset\n",
    "train_Seller_Order_data = pd.merge(train_Seller_data, train_Order_data, on='Merchant_ID', how='outer')"
   ]
  },
  {
   "cell_type": "code",
   "execution_count": 17,
   "metadata": {},
   "outputs": [],
   "source": [
    "Unseen_Seller_Order_data = pd.merge(unseen_seller_data, unseen_Order_data, on='Merchant_ID', how='outer')"
   ]
  },
  {
   "cell_type": "code",
   "execution_count": 18,
   "metadata": {},
   "outputs": [],
   "source": [
    "final_data = pd.merge(train_Seller_Order_data, fraud_train, on='Merchant_ID', how='outer')"
   ]
  },
  {
   "cell_type": "code",
   "execution_count": 23,
   "metadata": {},
   "outputs": [],
   "source": [
    "unseen_data = pd.merge(Unseen_Seller_Order_data, test_tar_data, on='Merchant_ID', how='outer')"
   ]
  },
  {
   "cell_type": "code",
   "execution_count": 24,
   "metadata": {},
   "outputs": [],
   "source": [
    "ip_boundaries_countries = pd.read_csv(\"ip_boundaries_countries-1561628631121.csv\")"
   ]
  },
  {
   "cell_type": "code",
   "execution_count": 25,
   "metadata": {},
   "outputs": [],
   "source": [
    "#Define a function to convert IP address to Integer.\n",
    "\n",
    "def ip_to_int(ip_ser):\n",
    "    ips = ip_ser.str.split('.', expand=True).astype(np.int16).values\n",
    "    mults = np.tile(np.array([24, 16, 8, 0]), len(ip_ser)).reshape(ips.shape)\n",
    "    return np.sum(np.left_shift(ips, mults), axis=1)"
   ]
  },
  {
   "cell_type": "code",
   "execution_count": 26,
   "metadata": {},
   "outputs": [],
   "source": [
    "#Appling on Train data set\n",
    "\n",
    "final_data['_ip'] = ip_to_int(final_data.IP_Address)\n",
    "ip_boundaries_countries[['_ip_range_start','_ip_range_end']] = ip_boundaries_countries.filter(like='ip_address').apply(lambda x: ip_to_int(x))"
   ]
  },
  {
   "cell_type": "code",
   "execution_count": 27,
   "metadata": {},
   "outputs": [],
   "source": [
    "#Appling on Train data set\n",
    "\n",
    "unseen_data['_ip'] = ip_to_int(unseen_data.IP_Address)\n",
    "ip_boundaries_countries[['_ip_range_start','_ip_range_end']] = ip_boundaries_countries.filter(like='ip_address').apply(lambda x: ip_to_int(x))"
   ]
  },
  {
   "cell_type": "code",
   "execution_count": 28,
   "metadata": {},
   "outputs": [],
   "source": [
    "final_data['x'] = (final_data._ip.apply(lambda x: ip_boundaries_countries.query('_ip_range_start <= @x <= _ip_range_end')\n",
    "                         .index\n",
    "                         .values)\n",
    "              .apply(lambda x: x[0] if len(x) else -1))"
   ]
  },
  {
   "cell_type": "code",
   "execution_count": 29,
   "metadata": {},
   "outputs": [],
   "source": [
    "unseen_data['x'] = (unseen_data._ip.apply(lambda x: ip_boundaries_countries.query('_ip_range_start <= @x <= _ip_range_end')\n",
    "                         .index\n",
    "                         .values)\n",
    "              .apply(lambda x: x[0] if len(x) else -1))"
   ]
  },
  {
   "cell_type": "code",
   "execution_count": 30,
   "metadata": {},
   "outputs": [],
   "source": [
    "#Merging Train Data set to bring Country column\n",
    "\n",
    "known_data=(pd.merge(final_data.drop('_ip',1),\n",
    "          ip_boundaries_countries.filter(regex=r'^((?!.?ip_range_).*)$'),\n",
    "          left_on='x',\n",
    "          right_index=True,\n",
    "          how='left').drop('x',1))"
   ]
  },
  {
   "cell_type": "code",
   "execution_count": 33,
   "metadata": {},
   "outputs": [],
   "source": [
    "#Merging Train Data set to bring Country column\n",
    "\n",
    "unseen_data=(pd.merge(final_data.drop('_ip',1),\n",
    "          ip_boundaries_countries.filter(regex=r'^((?!.?ip_range_).*)$'),\n",
    "          left_on='x',\n",
    "          right_index=True,\n",
    "          how='left').drop('x',1))"
   ]
  },
  {
   "cell_type": "code",
   "execution_count": 34,
   "metadata": {},
   "outputs": [
    {
     "data": {
      "text/html": [
       "<div>\n",
       "<style scoped>\n",
       "    .dataframe tbody tr th:only-of-type {\n",
       "        vertical-align: middle;\n",
       "    }\n",
       "\n",
       "    .dataframe tbody tr th {\n",
       "        vertical-align: top;\n",
       "    }\n",
       "\n",
       "    .dataframe thead th {\n",
       "        text-align: right;\n",
       "    }\n",
       "</style>\n",
       "<table border=\"1\" class=\"dataframe\">\n",
       "  <thead>\n",
       "    <tr style=\"text-align: right;\">\n",
       "      <th></th>\n",
       "      <th>Ecommerce_Provider_ID</th>\n",
       "      <th>Merchant_ID</th>\n",
       "      <th>Merchant_Registration_Date</th>\n",
       "      <th>Registered_Device_ID</th>\n",
       "      <th>Gender</th>\n",
       "      <th>Age</th>\n",
       "      <th>IP_Address</th>\n",
       "      <th>Customer_ID</th>\n",
       "      <th>Order_ID</th>\n",
       "      <th>Date_of_Order</th>\n",
       "      <th>Order_Value_USD</th>\n",
       "      <th>Order_Source</th>\n",
       "      <th>Order_Payment_Method</th>\n",
       "      <th>Fraudster</th>\n",
       "      <th>lower_bound_ip_address</th>\n",
       "      <th>upper_bound_ip_address</th>\n",
       "      <th>country</th>\n",
       "    </tr>\n",
       "  </thead>\n",
       "  <tbody>\n",
       "    <tr>\n",
       "      <th>0</th>\n",
       "      <td>1746213</td>\n",
       "      <td>50448</td>\n",
       "      <td>2018-05-01 21:15:11</td>\n",
       "      <td>VATQMMZTVOZUT</td>\n",
       "      <td>F</td>\n",
       "      <td>39</td>\n",
       "      <td>48.151.136.76</td>\n",
       "      <td>129697</td>\n",
       "      <td>3b8983a83c7b</td>\n",
       "      <td>2018-07-30 10:59:13</td>\n",
       "      <td>90</td>\n",
       "      <td>SEO</td>\n",
       "      <td>Debit Card</td>\n",
       "      <td>0</td>\n",
       "      <td>48.0.0.0</td>\n",
       "      <td>48.255.255.255</td>\n",
       "      <td>United States</td>\n",
       "    </tr>\n",
       "    <tr>\n",
       "      <th>1</th>\n",
       "      <td>1746213</td>\n",
       "      <td>338754</td>\n",
       "      <td>2018-04-14 10:13:00</td>\n",
       "      <td>LJCILLBRQZNKS</td>\n",
       "      <td>M</td>\n",
       "      <td>35</td>\n",
       "      <td>94.9.145.169</td>\n",
       "      <td>117390</td>\n",
       "      <td>34b5eb921228</td>\n",
       "      <td>2018-06-15 11:19:47</td>\n",
       "      <td>98</td>\n",
       "      <td>SEO</td>\n",
       "      <td>Internet Banking</td>\n",
       "      <td>0</td>\n",
       "      <td>94.0.0.0</td>\n",
       "      <td>94.15.255.255</td>\n",
       "      <td>United Kingdom</td>\n",
       "    </tr>\n",
       "    <tr>\n",
       "      <th>2</th>\n",
       "      <td>1746213</td>\n",
       "      <td>291127</td>\n",
       "      <td>2018-06-20 07:44:22</td>\n",
       "      <td>JFVHSUGKDAYZV</td>\n",
       "      <td>F</td>\n",
       "      <td>40</td>\n",
       "      <td>58.94.157.121</td>\n",
       "      <td>120162</td>\n",
       "      <td>41a1c86ff08b</td>\n",
       "      <td>2018-08-13 10:06:26</td>\n",
       "      <td>95</td>\n",
       "      <td>SEO</td>\n",
       "      <td>Credit Card</td>\n",
       "      <td>0</td>\n",
       "      <td>58.92.0.0</td>\n",
       "      <td>58.95.255.255</td>\n",
       "      <td>Japan</td>\n",
       "    </tr>\n",
       "    <tr>\n",
       "      <th>3</th>\n",
       "      <td>1746213</td>\n",
       "      <td>319919</td>\n",
       "      <td>2018-06-27 01:41:39</td>\n",
       "      <td>WFRXMPLQYXRMY</td>\n",
       "      <td>M</td>\n",
       "      <td>37</td>\n",
       "      <td>193.187.41.186</td>\n",
       "      <td>128228</td>\n",
       "      <td>e8c3ad80d916</td>\n",
       "      <td>2018-07-22 15:46:51</td>\n",
       "      <td>100</td>\n",
       "      <td>Direct</td>\n",
       "      <td>E-wallet</td>\n",
       "      <td>0</td>\n",
       "      <td>193.187.12.0</td>\n",
       "      <td>193.187.43.255</td>\n",
       "      <td>Austria</td>\n",
       "    </tr>\n",
       "    <tr>\n",
       "      <th>4</th>\n",
       "      <td>1746213</td>\n",
       "      <td>195911</td>\n",
       "      <td>2018-01-05 00:55:41</td>\n",
       "      <td>GGHKWMSWHCMID</td>\n",
       "      <td>F</td>\n",
       "      <td>27</td>\n",
       "      <td>125.96.20.172</td>\n",
       "      <td>136029</td>\n",
       "      <td>e71ab1f26785</td>\n",
       "      <td>2018-04-16 08:02:44</td>\n",
       "      <td>78</td>\n",
       "      <td>SEO</td>\n",
       "      <td>E-wallet</td>\n",
       "      <td>0</td>\n",
       "      <td>125.96.0.0</td>\n",
       "      <td>125.97.255.255</td>\n",
       "      <td>China</td>\n",
       "    </tr>\n",
       "  </tbody>\n",
       "</table>\n",
       "</div>"
      ],
      "text/plain": [
       "   Ecommerce_Provider_ID  Merchant_ID Merchant_Registration_Date  \\\n",
       "0                1746213        50448        2018-05-01 21:15:11   \n",
       "1                1746213       338754        2018-04-14 10:13:00   \n",
       "2                1746213       291127        2018-06-20 07:44:22   \n",
       "3                1746213       319919        2018-06-27 01:41:39   \n",
       "4                1746213       195911        2018-01-05 00:55:41   \n",
       "\n",
       "  Registered_Device_ID Gender  Age      IP_Address  Customer_ID      Order_ID  \\\n",
       "0        VATQMMZTVOZUT      F   39   48.151.136.76       129697  3b8983a83c7b   \n",
       "1        LJCILLBRQZNKS      M   35    94.9.145.169       117390  34b5eb921228   \n",
       "2        JFVHSUGKDAYZV      F   40   58.94.157.121       120162  41a1c86ff08b   \n",
       "3        WFRXMPLQYXRMY      M   37  193.187.41.186       128228  e8c3ad80d916   \n",
       "4        GGHKWMSWHCMID      F   27   125.96.20.172       136029  e71ab1f26785   \n",
       "\n",
       "         Date_of_Order  Order_Value_USD Order_Source Order_Payment_Method  \\\n",
       "0  2018-07-30 10:59:13               90          SEO           Debit Card   \n",
       "1  2018-06-15 11:19:47               98          SEO     Internet Banking   \n",
       "2  2018-08-13 10:06:26               95          SEO          Credit Card   \n",
       "3  2018-07-22 15:46:51              100       Direct             E-wallet   \n",
       "4  2018-04-16 08:02:44               78          SEO             E-wallet   \n",
       "\n",
       "   Fraudster lower_bound_ip_address upper_bound_ip_address         country  \n",
       "0          0               48.0.0.0         48.255.255.255   United States  \n",
       "1          0               94.0.0.0          94.15.255.255  United Kingdom  \n",
       "2          0              58.92.0.0          58.95.255.255           Japan  \n",
       "3          0           193.187.12.0         193.187.43.255         Austria  \n",
       "4          0             125.96.0.0         125.97.255.255           China  "
      ]
     },
     "execution_count": 34,
     "metadata": {},
     "output_type": "execute_result"
    }
   ],
   "source": [
    "known_data.head()"
   ]
  },
  {
   "cell_type": "code",
   "execution_count": 35,
   "metadata": {},
   "outputs": [
    {
     "data": {
      "text/plain": [
       "Index(['Ecommerce_Provider_ID', 'Merchant_ID', 'Merchant_Registration_Date',\n",
       "       'Registered_Device_ID', 'Gender', 'Age', 'IP_Address', 'Customer_ID',\n",
       "       'Order_ID', 'Date_of_Order', 'Order_Value_USD', 'Order_Source',\n",
       "       'Order_Payment_Method', 'Fraudster', 'lower_bound_ip_address',\n",
       "       'upper_bound_ip_address', 'country'],\n",
       "      dtype='object')"
      ]
     },
     "execution_count": 35,
     "metadata": {},
     "output_type": "execute_result"
    }
   ],
   "source": [
    "known_data.columns"
   ]
  },
  {
   "cell_type": "code",
   "execution_count": 36,
   "metadata": {},
   "outputs": [
    {
     "data": {
      "text/plain": [
       "Ecommerce_Provider_ID          int64\n",
       "Merchant_ID                    int64\n",
       "Merchant_Registration_Date    object\n",
       "Registered_Device_ID          object\n",
       "Gender                        object\n",
       "Age                            int64\n",
       "IP_Address                    object\n",
       "Customer_ID                    int64\n",
       "Order_ID                      object\n",
       "Date_of_Order                 object\n",
       "Order_Value_USD                int64\n",
       "Order_Source                  object\n",
       "Order_Payment_Method          object\n",
       "Fraudster                      int64\n",
       "lower_bound_ip_address        object\n",
       "upper_bound_ip_address        object\n",
       "country                       object\n",
       "dtype: object"
      ]
     },
     "execution_count": 36,
     "metadata": {},
     "output_type": "execute_result"
    }
   ],
   "source": [
    "known_data.dtypes"
   ]
  },
  {
   "cell_type": "code",
   "execution_count": 38,
   "metadata": {},
   "outputs": [
    {
     "data": {
      "text/plain": [
       "(54213, 17)"
      ]
     },
     "execution_count": 38,
     "metadata": {},
     "output_type": "execute_result"
    }
   ],
   "source": [
    "known_data.shape"
   ]
  },
  {
   "cell_type": "code",
   "execution_count": 39,
   "metadata": {},
   "outputs": [
    {
     "data": {
      "text/html": [
       "<div>\n",
       "<style scoped>\n",
       "    .dataframe tbody tr th:only-of-type {\n",
       "        vertical-align: middle;\n",
       "    }\n",
       "\n",
       "    .dataframe tbody tr th {\n",
       "        vertical-align: top;\n",
       "    }\n",
       "\n",
       "    .dataframe thead th {\n",
       "        text-align: right;\n",
       "    }\n",
       "</style>\n",
       "<table border=\"1\" class=\"dataframe\">\n",
       "  <thead>\n",
       "    <tr style=\"text-align: right;\">\n",
       "      <th></th>\n",
       "      <th>Ecommerce_Provider_ID</th>\n",
       "      <th>Merchant_ID</th>\n",
       "      <th>Merchant_Registration_Date</th>\n",
       "      <th>Registered_Device_ID</th>\n",
       "      <th>Gender</th>\n",
       "      <th>Age</th>\n",
       "      <th>IP_Address</th>\n",
       "      <th>Customer_ID</th>\n",
       "      <th>Order_ID</th>\n",
       "      <th>Date_of_Order</th>\n",
       "      <th>Order_Value_USD</th>\n",
       "      <th>Order_Source</th>\n",
       "      <th>Order_Payment_Method</th>\n",
       "      <th>Fraudster</th>\n",
       "      <th>lower_bound_ip_address</th>\n",
       "      <th>upper_bound_ip_address</th>\n",
       "      <th>country</th>\n",
       "    </tr>\n",
       "  </thead>\n",
       "  <tbody>\n",
       "    <tr>\n",
       "      <th>count</th>\n",
       "      <td>54213.0</td>\n",
       "      <td>54213.000000</td>\n",
       "      <td>54213</td>\n",
       "      <td>54213</td>\n",
       "      <td>54213</td>\n",
       "      <td>54213.000000</td>\n",
       "      <td>54213</td>\n",
       "      <td>54213.000000</td>\n",
       "      <td>54213</td>\n",
       "      <td>54213</td>\n",
       "      <td>54213.000000</td>\n",
       "      <td>54213</td>\n",
       "      <td>54213</td>\n",
       "      <td>54213.00000</td>\n",
       "      <td>46402</td>\n",
       "      <td>46402</td>\n",
       "      <td>46402</td>\n",
       "    </tr>\n",
       "    <tr>\n",
       "      <th>unique</th>\n",
       "      <td>NaN</td>\n",
       "      <td>NaN</td>\n",
       "      <td>54213</td>\n",
       "      <td>51291</td>\n",
       "      <td>2</td>\n",
       "      <td>NaN</td>\n",
       "      <td>52028</td>\n",
       "      <td>NaN</td>\n",
       "      <td>54213</td>\n",
       "      <td>54161</td>\n",
       "      <td>NaN</td>\n",
       "      <td>3</td>\n",
       "      <td>5</td>\n",
       "      <td>NaN</td>\n",
       "      <td>14914</td>\n",
       "      <td>14914</td>\n",
       "      <td>109</td>\n",
       "    </tr>\n",
       "    <tr>\n",
       "      <th>top</th>\n",
       "      <td>NaN</td>\n",
       "      <td>NaN</td>\n",
       "      <td>2018-05-23 20:35:24</td>\n",
       "      <td>VIPZYJGMVMXOF</td>\n",
       "      <td>M</td>\n",
       "      <td>NaN</td>\n",
       "      <td>91.161.239.48</td>\n",
       "      <td>NaN</td>\n",
       "      <td>4443ec2963c7</td>\n",
       "      <td>2018-05-09 11:22:28</td>\n",
       "      <td>NaN</td>\n",
       "      <td>SEO</td>\n",
       "      <td>Credit Card</td>\n",
       "      <td>NaN</td>\n",
       "      <td>12.0.0.0</td>\n",
       "      <td>12.255.255.255</td>\n",
       "      <td>United States</td>\n",
       "    </tr>\n",
       "    <tr>\n",
       "      <th>freq</th>\n",
       "      <td>NaN</td>\n",
       "      <td>NaN</td>\n",
       "      <td>1</td>\n",
       "      <td>9</td>\n",
       "      <td>31761</td>\n",
       "      <td>NaN</td>\n",
       "      <td>9</td>\n",
       "      <td>NaN</td>\n",
       "      <td>1</td>\n",
       "      <td>2</td>\n",
       "      <td>NaN</td>\n",
       "      <td>21884</td>\n",
       "      <td>21844</td>\n",
       "      <td>NaN</td>\n",
       "      <td>262</td>\n",
       "      <td>262</td>\n",
       "      <td>20963</td>\n",
       "    </tr>\n",
       "    <tr>\n",
       "      <th>mean</th>\n",
       "      <td>1746213.0</td>\n",
       "      <td>200395.176212</td>\n",
       "      <td>NaN</td>\n",
       "      <td>NaN</td>\n",
       "      <td>NaN</td>\n",
       "      <td>33.122240</td>\n",
       "      <td>NaN</td>\n",
       "      <td>137966.285208</td>\n",
       "      <td>NaN</td>\n",
       "      <td>NaN</td>\n",
       "      <td>92.230240</td>\n",
       "      <td>NaN</td>\n",
       "      <td>NaN</td>\n",
       "      <td>0.09269</td>\n",
       "      <td>NaN</td>\n",
       "      <td>NaN</td>\n",
       "      <td>NaN</td>\n",
       "    </tr>\n",
       "    <tr>\n",
       "      <th>std</th>\n",
       "      <td>0.0</td>\n",
       "      <td>115398.486895</td>\n",
       "      <td>NaN</td>\n",
       "      <td>NaN</td>\n",
       "      <td>NaN</td>\n",
       "      <td>8.630091</td>\n",
       "      <td>NaN</td>\n",
       "      <td>15563.516156</td>\n",
       "      <td>NaN</td>\n",
       "      <td>NaN</td>\n",
       "      <td>45.673263</td>\n",
       "      <td>NaN</td>\n",
       "      <td>NaN</td>\n",
       "      <td>0.29000</td>\n",
       "      <td>NaN</td>\n",
       "      <td>NaN</td>\n",
       "      <td>NaN</td>\n",
       "    </tr>\n",
       "    <tr>\n",
       "      <th>min</th>\n",
       "      <td>1746213.0</td>\n",
       "      <td>2.000000</td>\n",
       "      <td>NaN</td>\n",
       "      <td>NaN</td>\n",
       "      <td>NaN</td>\n",
       "      <td>18.000000</td>\n",
       "      <td>NaN</td>\n",
       "      <td>111234.000000</td>\n",
       "      <td>NaN</td>\n",
       "      <td>NaN</td>\n",
       "      <td>22.000000</td>\n",
       "      <td>NaN</td>\n",
       "      <td>NaN</td>\n",
       "      <td>0.00000</td>\n",
       "      <td>NaN</td>\n",
       "      <td>NaN</td>\n",
       "      <td>NaN</td>\n",
       "    </tr>\n",
       "    <tr>\n",
       "      <th>25%</th>\n",
       "      <td>1746213.0</td>\n",
       "      <td>100997.000000</td>\n",
       "      <td>NaN</td>\n",
       "      <td>NaN</td>\n",
       "      <td>NaN</td>\n",
       "      <td>27.000000</td>\n",
       "      <td>NaN</td>\n",
       "      <td>124471.000000</td>\n",
       "      <td>NaN</td>\n",
       "      <td>NaN</td>\n",
       "      <td>55.000000</td>\n",
       "      <td>NaN</td>\n",
       "      <td>NaN</td>\n",
       "      <td>0.00000</td>\n",
       "      <td>NaN</td>\n",
       "      <td>NaN</td>\n",
       "      <td>NaN</td>\n",
       "    </tr>\n",
       "    <tr>\n",
       "      <th>50%</th>\n",
       "      <td>1746213.0</td>\n",
       "      <td>200574.000000</td>\n",
       "      <td>NaN</td>\n",
       "      <td>NaN</td>\n",
       "      <td>NaN</td>\n",
       "      <td>32.000000</td>\n",
       "      <td>NaN</td>\n",
       "      <td>137864.000000</td>\n",
       "      <td>NaN</td>\n",
       "      <td>NaN</td>\n",
       "      <td>88.000000</td>\n",
       "      <td>NaN</td>\n",
       "      <td>NaN</td>\n",
       "      <td>0.00000</td>\n",
       "      <td>NaN</td>\n",
       "      <td>NaN</td>\n",
       "      <td>NaN</td>\n",
       "    </tr>\n",
       "    <tr>\n",
       "      <th>75%</th>\n",
       "      <td>1746213.0</td>\n",
       "      <td>300407.000000</td>\n",
       "      <td>NaN</td>\n",
       "      <td>NaN</td>\n",
       "      <td>NaN</td>\n",
       "      <td>39.000000</td>\n",
       "      <td>NaN</td>\n",
       "      <td>151405.000000</td>\n",
       "      <td>NaN</td>\n",
       "      <td>NaN</td>\n",
       "      <td>122.000000</td>\n",
       "      <td>NaN</td>\n",
       "      <td>NaN</td>\n",
       "      <td>0.00000</td>\n",
       "      <td>NaN</td>\n",
       "      <td>NaN</td>\n",
       "      <td>NaN</td>\n",
       "    </tr>\n",
       "    <tr>\n",
       "      <th>max</th>\n",
       "      <td>1746213.0</td>\n",
       "      <td>399993.000000</td>\n",
       "      <td>NaN</td>\n",
       "      <td>NaN</td>\n",
       "      <td>NaN</td>\n",
       "      <td>72.000000</td>\n",
       "      <td>NaN</td>\n",
       "      <td>165000.000000</td>\n",
       "      <td>NaN</td>\n",
       "      <td>NaN</td>\n",
       "      <td>385.000000</td>\n",
       "      <td>NaN</td>\n",
       "      <td>NaN</td>\n",
       "      <td>1.00000</td>\n",
       "      <td>NaN</td>\n",
       "      <td>NaN</td>\n",
       "      <td>NaN</td>\n",
       "    </tr>\n",
       "  </tbody>\n",
       "</table>\n",
       "</div>"
      ],
      "text/plain": [
       "        Ecommerce_Provider_ID    Merchant_ID Merchant_Registration_Date  \\\n",
       "count                 54213.0   54213.000000                      54213   \n",
       "unique                    NaN            NaN                      54213   \n",
       "top                       NaN            NaN        2018-05-23 20:35:24   \n",
       "freq                      NaN            NaN                          1   \n",
       "mean                1746213.0  200395.176212                        NaN   \n",
       "std                       0.0  115398.486895                        NaN   \n",
       "min                 1746213.0       2.000000                        NaN   \n",
       "25%                 1746213.0  100997.000000                        NaN   \n",
       "50%                 1746213.0  200574.000000                        NaN   \n",
       "75%                 1746213.0  300407.000000                        NaN   \n",
       "max                 1746213.0  399993.000000                        NaN   \n",
       "\n",
       "       Registered_Device_ID Gender           Age     IP_Address  \\\n",
       "count                 54213  54213  54213.000000          54213   \n",
       "unique                51291      2           NaN          52028   \n",
       "top           VIPZYJGMVMXOF      M           NaN  91.161.239.48   \n",
       "freq                      9  31761           NaN              9   \n",
       "mean                    NaN    NaN     33.122240            NaN   \n",
       "std                     NaN    NaN      8.630091            NaN   \n",
       "min                     NaN    NaN     18.000000            NaN   \n",
       "25%                     NaN    NaN     27.000000            NaN   \n",
       "50%                     NaN    NaN     32.000000            NaN   \n",
       "75%                     NaN    NaN     39.000000            NaN   \n",
       "max                     NaN    NaN     72.000000            NaN   \n",
       "\n",
       "          Customer_ID      Order_ID        Date_of_Order  Order_Value_USD  \\\n",
       "count    54213.000000         54213                54213     54213.000000   \n",
       "unique            NaN         54213                54161              NaN   \n",
       "top               NaN  4443ec2963c7  2018-05-09 11:22:28              NaN   \n",
       "freq              NaN             1                    2              NaN   \n",
       "mean    137966.285208           NaN                  NaN        92.230240   \n",
       "std      15563.516156           NaN                  NaN        45.673263   \n",
       "min     111234.000000           NaN                  NaN        22.000000   \n",
       "25%     124471.000000           NaN                  NaN        55.000000   \n",
       "50%     137864.000000           NaN                  NaN        88.000000   \n",
       "75%     151405.000000           NaN                  NaN       122.000000   \n",
       "max     165000.000000           NaN                  NaN       385.000000   \n",
       "\n",
       "       Order_Source Order_Payment_Method    Fraudster lower_bound_ip_address  \\\n",
       "count         54213                54213  54213.00000                  46402   \n",
       "unique            3                    5          NaN                  14914   \n",
       "top             SEO          Credit Card          NaN               12.0.0.0   \n",
       "freq          21884                21844          NaN                    262   \n",
       "mean            NaN                  NaN      0.09269                    NaN   \n",
       "std             NaN                  NaN      0.29000                    NaN   \n",
       "min             NaN                  NaN      0.00000                    NaN   \n",
       "25%             NaN                  NaN      0.00000                    NaN   \n",
       "50%             NaN                  NaN      0.00000                    NaN   \n",
       "75%             NaN                  NaN      0.00000                    NaN   \n",
       "max             NaN                  NaN      1.00000                    NaN   \n",
       "\n",
       "       upper_bound_ip_address        country  \n",
       "count                   46402          46402  \n",
       "unique                  14914            109  \n",
       "top            12.255.255.255  United States  \n",
       "freq                      262          20963  \n",
       "mean                      NaN            NaN  \n",
       "std                       NaN            NaN  \n",
       "min                       NaN            NaN  \n",
       "25%                       NaN            NaN  \n",
       "50%                       NaN            NaN  \n",
       "75%                       NaN            NaN  \n",
       "max                       NaN            NaN  "
      ]
     },
     "execution_count": 39,
     "metadata": {},
     "output_type": "execute_result"
    }
   ],
   "source": [
    "known_data.describe(include='all')"
   ]
  },
  {
   "cell_type": "code",
   "execution_count": 40,
   "metadata": {},
   "outputs": [
    {
     "data": {
      "text/plain": [
       "Ecommerce_Provider_ID             1\n",
       "Merchant_ID                   54213\n",
       "Merchant_Registration_Date    54213\n",
       "Registered_Device_ID          51291\n",
       "Gender                            2\n",
       "Age                              53\n",
       "IP_Address                    52028\n",
       "Customer_ID                   34081\n",
       "Order_ID                      54213\n",
       "Date_of_Order                 54161\n",
       "Order_Value_USD                 116\n",
       "Order_Source                      3\n",
       "Order_Payment_Method              5\n",
       "Fraudster                         2\n",
       "lower_bound_ip_address        14914\n",
       "upper_bound_ip_address        14914\n",
       "country                         109\n",
       "dtype: int64"
      ]
     },
     "execution_count": 40,
     "metadata": {},
     "output_type": "execute_result"
    }
   ],
   "source": [
    "known_data.nunique()"
   ]
  },
  {
   "cell_type": "code",
   "execution_count": 24,
   "metadata": {},
   "outputs": [
    {
     "data": {
      "text/plain": [
       "Ecommerce_Provider_ID            0\n",
       "Merchant_ID                      0\n",
       "Merchant_Registration_Date       0\n",
       "Registered_Device_ID             0\n",
       "Gender                           0\n",
       "Age                              0\n",
       "IP_Address                       0\n",
       "Customer_ID                      0\n",
       "Order_ID                         0\n",
       "Date_of_Order                    0\n",
       "Order_Value_USD                  0\n",
       "Order_Source                     0\n",
       "Order_Payment_Method             0\n",
       "Fraudster                        0\n",
       "lower_bound_ip_address        7811\n",
       "upper_bound_ip_address        7811\n",
       "country                       7811\n",
       "dtype: int64"
      ]
     },
     "execution_count": 24,
     "metadata": {},
     "output_type": "execute_result"
    }
   ],
   "source": [
    "known_data.isnull().sum()"
   ]
  },
  {
   "cell_type": "code",
   "execution_count": 41,
   "metadata": {},
   "outputs": [],
   "source": [
    "unnecessary_col =['Ecommerce_Provider_ID', 'Customer_ID', 'lower_bound_ip_address', 'upper_bound_ip_address']\n",
    "known_data.drop(unnecessary_col, axis=1, inplace=True)"
   ]
  },
  {
   "cell_type": "code",
   "execution_count": 42,
   "metadata": {},
   "outputs": [],
   "source": [
    "unnecessary_col =['Ecommerce_Provider_ID', 'Customer_ID', 'lower_bound_ip_address', 'upper_bound_ip_address']\n",
    "unseen_data.drop(unnecessary_col, axis=1, inplace=True)"
   ]
  },
  {
   "cell_type": "code",
   "execution_count": 43,
   "metadata": {},
   "outputs": [
    {
     "data": {
      "text/plain": [
       "Index(['Merchant_ID', 'Merchant_Registration_Date', 'Registered_Device_ID',\n",
       "       'Gender', 'Age', 'IP_Address', 'Order_ID', 'Date_of_Order',\n",
       "       'Order_Value_USD', 'Order_Source', 'Order_Payment_Method', 'Fraudster',\n",
       "       'country'],\n",
       "      dtype='object')"
      ]
     },
     "execution_count": 43,
     "metadata": {},
     "output_type": "execute_result"
    }
   ],
   "source": [
    "known_data.columns"
   ]
  },
  {
   "cell_type": "code",
   "execution_count": 44,
   "metadata": {},
   "outputs": [
    {
     "data": {
      "text/plain": [
       "Merchant_ID                    int64\n",
       "Merchant_Registration_Date    object\n",
       "Registered_Device_ID          object\n",
       "Gender                        object\n",
       "Age                            int64\n",
       "IP_Address                    object\n",
       "Order_ID                      object\n",
       "Date_of_Order                 object\n",
       "Order_Value_USD                int64\n",
       "Order_Source                  object\n",
       "Order_Payment_Method          object\n",
       "Fraudster                      int64\n",
       "country                       object\n",
       "dtype: object"
      ]
     },
     "execution_count": 44,
     "metadata": {},
     "output_type": "execute_result"
    }
   ],
   "source": [
    "known_data.dtypes"
   ]
  },
  {
   "cell_type": "code",
   "execution_count": 45,
   "metadata": {},
   "outputs": [],
   "source": [
    "#Converting to correct categorical columns - Train data set\n",
    "\n",
    "for col in ['Gender','Fraudster', 'Order_Source', 'Order_Payment_Method', 'Merchant_ID', 'Order_ID', 'Registered_Device_ID', 'IP_Address', 'country']:\n",
    "    known_data[col] = known_data[col].astype('category')"
   ]
  },
  {
   "cell_type": "code",
   "execution_count": 46,
   "metadata": {},
   "outputs": [],
   "source": [
    "#Converting to correct categorical columns - Train data set\n",
    "\n",
    "for col in ['Gender','Fraudster', 'Order_Source', 'Order_Payment_Method', 'Merchant_ID', 'Order_ID', 'Registered_Device_ID', 'IP_Address', 'country']:\n",
    "    unseen_data[col] = unseen_data[col].astype('category')"
   ]
  },
  {
   "cell_type": "code",
   "execution_count": 47,
   "metadata": {},
   "outputs": [
    {
     "data": {
      "text/plain": [
       "Merchant_ID                   category\n",
       "Merchant_Registration_Date      object\n",
       "Registered_Device_ID          category\n",
       "Gender                        category\n",
       "Age                              int64\n",
       "IP_Address                    category\n",
       "Order_ID                      category\n",
       "Date_of_Order                   object\n",
       "Order_Value_USD                  int64\n",
       "Order_Source                  category\n",
       "Order_Payment_Method          category\n",
       "Fraudster                     category\n",
       "country                       category\n",
       "dtype: object"
      ]
     },
     "execution_count": 47,
     "metadata": {},
     "output_type": "execute_result"
    }
   ],
   "source": [
    "known_data.dtypes"
   ]
  },
  {
   "cell_type": "code",
   "execution_count": 48,
   "metadata": {},
   "outputs": [],
   "source": [
    "#Converting to correct Date columns - Train Data set\n",
    "known_data[['Merchant_Registration_Date','Date_of_Order']] = known_data[['Merchant_Registration_Date','Date_of_Order']].apply(pd.to_datetime)"
   ]
  },
  {
   "cell_type": "code",
   "execution_count": 49,
   "metadata": {},
   "outputs": [],
   "source": [
    "#Converting to correct Date columns - Train Data set\n",
    "unseen_data[['Merchant_Registration_Date','Date_of_Order']] = unseen_data[['Merchant_Registration_Date','Date_of_Order']].apply(pd.to_datetime)"
   ]
  },
  {
   "cell_type": "code",
   "execution_count": 50,
   "metadata": {},
   "outputs": [],
   "source": [
    "for col in ['Merchant_Registration_Date', 'Date_of_Order']:\n",
    "    known_data[col] = known_data[col].astype('category')"
   ]
  },
  {
   "cell_type": "code",
   "execution_count": 51,
   "metadata": {},
   "outputs": [],
   "source": [
    "for col in ['Merchant_Registration_Date', 'Date_of_Order']:\n",
    "    unseen_data[col] = unseen_data[col].astype('category')"
   ]
  },
  {
   "cell_type": "code",
   "execution_count": 52,
   "metadata": {},
   "outputs": [],
   "source": [
    "cat_attr = list(known_data.select_dtypes(\"category\").columns)\n",
    "num_attr = list(known_data.columns.difference(cat_attr))\n"
   ]
  },
  {
   "cell_type": "code",
   "execution_count": 53,
   "metadata": {},
   "outputs": [],
   "source": [
    "cat_attr.remove('Fraudster')"
   ]
  },
  {
   "cell_type": "code",
   "execution_count": 54,
   "metadata": {},
   "outputs": [],
   "source": [
    "# Numerical Pipeline\n",
    "numeric_transformer = Pipeline(steps=[\n",
    "    ('imputer', SimpleImputer(strategy='median')),\n",
    "    ('scaler', StandardScaler())])\n",
    "\n",
    "# Categorical Pipeline \n",
    "categorical_transformer = Pipeline(steps=[\n",
    "    ('imputer', SimpleImputer(strategy='most_frequent', fill_value='missing')),\n",
    "    ('onehot', OneHotEncoder(handle_unknown='ignore'))])\n",
    "\n",
    "\n",
    "preprocessor = ColumnTransformer(\n",
    "    transformers=[\n",
    "        ('num', numeric_transformer, num_attr),\n",
    "        ('cat', categorical_transformer, cat_attr)])"
   ]
  },
  {
   "cell_type": "code",
   "execution_count": 40,
   "metadata": {},
   "outputs": [],
   "source": [
    "#Model building libraries\n",
    "\n",
    "from sklearn.neighbors import KNeighborsClassifier\n",
    "from sklearn.neighbors import KNeighborsRegressor\n",
    "from sklearn.tree import DecisionTreeClassifier\n",
    "from sklearn.ensemble import RandomForestClassifier\n",
    "from sklearn import tree\n",
    "from sklearn.svm import SVC\n",
    "from sklearn.linear_model import LogisticRegression\n",
    "\n",
    "from sklearn.ensemble import GradientBoostingClassifier\n",
    "from sklearn.ensemble import AdaBoostClassifier\n",
    "from sklearn.cluster import KMeans"
   ]
  },
  {
   "cell_type": "code",
   "execution_count": 41,
   "metadata": {},
   "outputs": [],
   "source": [
    "#Building Logistic regression\n",
    "\n",
    "clf_logreg = Pipeline(steps=[('preprocessor', preprocessor), \n",
    "                           ('classifier', LogisticRegression())])"
   ]
  },
  {
   "cell_type": "code",
   "execution_count": 43,
   "metadata": {},
   "outputs": [],
   "source": [
    "X, y = known_data.loc[:,known_data.columns!='Fraudster'], known_data.loc[:,'Fraudster']\n",
    "\n",
    "X_train, X_test, y_train, y_test = train_test_split(X, y, test_size=0.3, random_state=123) "
   ]
  },
  {
   "cell_type": "code",
   "execution_count": 44,
   "metadata": {},
   "outputs": [
    {
     "name": "stderr",
     "output_type": "stream",
     "text": [
      "C:\\Users\\Lokesh\\AppData\\Roaming\\Python\\Python37\\site-packages\\sklearn\\linear_model\\logistic.py:432: FutureWarning: Default solver will be changed to 'lbfgs' in 0.22. Specify a solver to silence this warning.\n",
      "  FutureWarning)\n"
     ]
    },
    {
     "data": {
      "text/plain": [
       "Pipeline(memory=None,\n",
       "         steps=[('preprocessor',\n",
       "                 ColumnTransformer(n_jobs=None, remainder='drop',\n",
       "                                   sparse_threshold=0.3,\n",
       "                                   transformer_weights=None,\n",
       "                                   transformers=[('num',\n",
       "                                                  Pipeline(memory=None,\n",
       "                                                           steps=[('imputer',\n",
       "                                                                   SimpleImputer(add_indicator=False,\n",
       "                                                                                 copy=True,\n",
       "                                                                                 fill_value=None,\n",
       "                                                                                 missing_values=nan,\n",
       "                                                                                 strategy='median',\n",
       "                                                                                 verbose=0)),\n",
       "                                                                  ('scaler',\n",
       "                                                                   StandardScaler(copy=True,\n",
       "                                                                                  with_mean...\n",
       "                                                   'Order_ID', 'Date_of_Order',\n",
       "                                                   'Order_Source',\n",
       "                                                   'Order_Payment_Method',\n",
       "                                                   'country'])],\n",
       "                                   verbose=False)),\n",
       "                ('classifier',\n",
       "                 LogisticRegression(C=1.0, class_weight=None, dual=False,\n",
       "                                    fit_intercept=True, intercept_scaling=1,\n",
       "                                    l1_ratio=None, max_iter=100,\n",
       "                                    multi_class='warn', n_jobs=None,\n",
       "                                    penalty='l2', random_state=None,\n",
       "                                    solver='warn', tol=0.0001, verbose=0,\n",
       "                                    warm_start=False))],\n",
       "         verbose=False)"
      ]
     },
     "execution_count": 44,
     "metadata": {},
     "output_type": "execute_result"
    }
   ],
   "source": [
    "clf_logreg.fit(X_train, y_train)"
   ]
  },
  {
   "cell_type": "code",
   "execution_count": 45,
   "metadata": {},
   "outputs": [
    {
     "name": "stdout",
     "output_type": "stream",
     "text": [
      "0.9897230493557142\n",
      "0.9096778160354156\n",
      "TRAIN Conf Matrix : \n",
      " [[34417     0]\n",
      " [  390  3142]]\n",
      "\n",
      "TRAIN DATA ACCURACY 0.9897230493557142\n",
      "\n",
      "Train data f1-score for class '0' 0.941564279292778\n",
      "\n",
      "Train data f1-score for class '1' 0.941564279292778\n",
      "\n",
      "\n",
      "--------------------------------------\n",
      "\n",
      "\n",
      "TEST Conf Matrix : \n",
      " [[14771     0]\n",
      " [ 1469    24]]\n",
      "\n",
      "TEST DATA ACCURACY 0.9096778160354156\n",
      "\n",
      "Test data f1-score for class '0' 0.031641397495056026\n",
      "\n",
      "Test data f1-score for class '1' 0.031641397495056026\n"
     ]
    }
   ],
   "source": [
    "## Predict\n",
    "train_predictions = clf_logreg.predict(X_train)\n",
    "test_predictions = clf_logreg.predict(X_test)\n",
    "\n",
    "print(clf_logreg.score(X_train, y_train))\n",
    "print(clf_logreg.score(X_test, y_test))\n"
   ]
  },
  {
   "cell_type": "code",
   "execution_count": 63,
   "metadata": {},
   "outputs": [],
   "source": [
    "## Predict\n",
    "Unseen_data_predictions = clf_logreg.predict(unseen_data)\n",
    "\n"
   ]
  },
  {
   "cell_type": "code",
   "execution_count": 67,
   "metadata": {},
   "outputs": [
    {
     "data": {
      "text/plain": [
       "{0: 51047, 1: 3166}"
      ]
     },
     "execution_count": 67,
     "metadata": {},
     "output_type": "execute_result"
    }
   ],
   "source": [
    "unique, counts = np.unique(Unseen_data_predictions, return_counts=True)\n",
    "dict(zip(unique, counts))"
   ]
  },
  {
   "cell_type": "code",
   "execution_count": 68,
   "metadata": {},
   "outputs": [
    {
     "name": "stdout",
     "output_type": "stream",
     "text": [
      "   Fraudster\n",
      "0          0\n",
      "1          0\n",
      "2          0\n",
      "3          0\n",
      "4          0\n"
     ]
    }
   ],
   "source": [
    "unseen_pred_df = pd.DataFrame(Unseen_data_predictions, columns=['Fraudster'])\n",
    "print(unseen_pred_df.head())"
   ]
  },
  {
   "cell_type": "code",
   "execution_count": 47,
   "metadata": {},
   "outputs": [],
   "source": [
    "## F1 Score for weighted average\n",
    "from sklearn.metrics import f1_score\n",
    "\n",
    "f1_Train = f1_score(y_true=y_train, y_pred = train_predictions, average='weighted')\n",
    "\n",
    "f1_Test = f1_score(y_true=y_test, y_pred = test_predictions, average='weighted')"
   ]
  },
  {
   "cell_type": "code",
   "execution_count": 48,
   "metadata": {},
   "outputs": [
    {
     "name": "stdout",
     "output_type": "stream",
     "text": [
      "0.9894517284218683\n"
     ]
    }
   ],
   "source": [
    "print(f1_Train)"
   ]
  },
  {
   "cell_type": "code",
   "execution_count": 49,
   "metadata": {},
   "outputs": [
    {
     "name": "stdout",
     "output_type": "stream",
     "text": [
      "0.8680849780477407\n"
     ]
    }
   ],
   "source": [
    "print(f1_Test)"
   ]
  },
  {
   "cell_type": "code",
   "execution_count": 70,
   "metadata": {},
   "outputs": [
    {
     "name": "stdout",
     "output_type": "stream",
     "text": [
      "   Fraudster  Merchant_ID\n",
      "0        NaN      53637.0\n",
      "1        NaN     243517.0\n",
      "2        NaN     343640.0\n",
      "3        NaN      69889.0\n",
      "4        NaN     125706.0\n"
     ]
    },
    {
     "name": "stderr",
     "output_type": "stream",
     "text": [
      "C:\\Users\\Lokesh\\Anaconda3\\lib\\site-packages\\ipykernel_launcher.py:1: FutureWarning: Sorting because non-concatenation axis is not aligned. A future version\n",
      "of pandas will change to not sort by default.\n",
      "\n",
      "To accept the future behavior, pass 'sort=False'.\n",
      "\n",
      "To retain the current behavior and silence the warning, pass 'sort=True'.\n",
      "\n",
      "  \"\"\"Entry point for launching an IPython kernel.\n"
     ]
    }
   ],
   "source": [
    "final_merged_data = pd.concat([test_tar_data, unseen_pred_df] )\n",
    "print(final_merged_data.head())\n"
   ]
  },
  {
   "cell_type": "code",
   "execution_count": 72,
   "metadata": {},
   "outputs": [
    {
     "data": {
      "text/plain": [
       "{0: 51047, 1: 3166}"
      ]
     },
     "execution_count": 72,
     "metadata": {},
     "output_type": "execute_result"
    }
   ],
   "source": [
    "unique, counts = np.unique(Unseen_data_predictions, return_counts=True)\n",
    "dict(zip(unique, counts))\n"
   ]
  },
  {
   "cell_type": "code",
   "execution_count": 73,
   "metadata": {},
   "outputs": [],
   "source": [
    "pd.DataFrame(Unseen_data_predictions).to_csv(\"Fraud.csv\")"
   ]
  },
  {
   "cell_type": "code",
   "execution_count": 74,
   "metadata": {},
   "outputs": [],
   "source": [
    "clf = Pipeline(steps=[('preprocessor', preprocessor), \n",
    "                      ('GBM',GradientBoostingClassifier())])"
   ]
  },
  {
   "cell_type": "code",
   "execution_count": 82,
   "metadata": {},
   "outputs": [
    {
     "data": {
      "text/plain": [
       "Merchant_ID                   category\n",
       "Merchant_Registration_Date    category\n",
       "Gender                        category\n",
       "Age                              int64\n",
       "IP_Address                    category\n",
       "Order_ID                      category\n",
       "Date_of_Order                 category\n",
       "Order_Value_USD                  int64\n",
       "Order_Source                  category\n",
       "Order_Payment_Method          category\n",
       "country                       category\n",
       "dtype: object"
      ]
     },
     "execution_count": 82,
     "metadata": {},
     "output_type": "execute_result"
    }
   ],
   "source": [
    "X_train.dtypes"
   ]
  },
  {
   "cell_type": "code",
   "execution_count": 87,
   "metadata": {},
   "outputs": [],
   "source": [
    "# Numerical Pipeline\n",
    "numeric_transformer = Pipeline(steps=[\n",
    "    ('imputer', SimpleImputer(strategy='median')),\n",
    "    ('scaler', StandardScaler())])\n",
    "\n",
    "# Categorical Pipeline \n",
    "categorical_transformer = Pipeline(steps=[\n",
    "    ('imputer', SimpleImputer(strategy='most_frequent', fill_value='missing')),\n",
    "    ('onehot', OneHotEncoder(handle_unknown='ignore'))])\n",
    "\n",
    "\n",
    "preprocessor = ColumnTransformer(\n",
    "    transformers=[\n",
    "        ('num', numeric_transformer, num_attr),\n",
    "        ('cat', categorical_transformer, cat_attr)])"
   ]
  },
  {
   "cell_type": "code",
   "execution_count": null,
   "metadata": {},
   "outputs": [],
   "source": [
    "## Predict\n",
    "gbm_train_predictions = gbm_param_grid.predict(X_train)\n",
    "gbm_test_predictions = gbm_param_grid.predict(X_test)\n",
    "\n",
    "print(gbm_param_grid.score(X_train, y_train))\n",
    "print(gbm_param_grid.score(X_test, y_test))\n"
   ]
  },
  {
   "cell_type": "code",
   "execution_count": null,
   "metadata": {},
   "outputs": [],
   "source": [
    "## F1 Score for weighted average\n",
    "from sklearn.metrics import f1_score\n",
    "\n",
    "f1_Train = f1_score(y_true=y_train, y_pred = gbm_train_predictions, average='weighted')\n",
    "\n",
    "f1_Test = f1_score(y_true=y_test, y_pred = gbm_test_predictions, average='weighted') \n",
    "\n",
    "print(f1_Train)\n",
    "print(f2_Train)"
   ]
  },
  {
   "cell_type": "code",
   "execution_count": null,
   "metadata": {},
   "outputs": [],
   "source": [
    "final_output_pred = gbm_grid.predict(unseen_data)"
   ]
  },
  {
   "cell_type": "code",
   "execution_count": null,
   "metadata": {},
   "outputs": [],
   "source": [
    "pd.DataFrame(final_output_pred).to_csv(\"Fraud_2.csv\")"
   ]
  }
 ],
 "metadata": {
  "kernelspec": {
   "display_name": "Python 3",
   "language": "python",
   "name": "python3"
  },
  "language_info": {
   "codemirror_mode": {
    "name": "ipython",
    "version": 3
   },
   "file_extension": ".py",
   "mimetype": "text/x-python",
   "name": "python",
   "nbconvert_exporter": "python",
   "pygments_lexer": "ipython3",
   "version": "3.7.4"
  }
 },
 "nbformat": 4,
 "nbformat_minor": 2
}
